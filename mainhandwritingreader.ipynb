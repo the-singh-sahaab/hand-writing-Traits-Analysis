{
 "cells": [
  {
   "cell_type": "code",
   "execution_count": null,
   "metadata": {
    "colab": {
     "base_uri": "https://localhost:8080/",
     "height": 683
    },
    "executionInfo": {
     "elapsed": 20603,
     "status": "error",
     "timestamp": 1695975679730,
     "user": {
      "displayName": "SHUBHAM MANISH SINGH 21BCE10456",
      "userId": "09782029246452308824"
     },
     "user_tz": -330
    },
    "id": "zOZQ9q-1Tbkd",
    "outputId": "2fdd8e88-cb88-42c7-b289-b1f6f07c4701"
   },
   "outputs": [],
   "source": [
    "import pandas as pd\n",
    "import numpy as np\n",
    "import seaborn as sns\n",
    "import matplotlib.pyplot as plt\n",
    "from warnings import filterwarnings\n",
    "from mpl_toolkits.mplot3d import Axes3D\n",
    "import statsmodels.api as sm\n",
    "import missingno as msno\n",
    "from sklearn.decomposition import PCA\n",
    "from sklearn.preprocessing import scale\n",
    "from sklearn.neighbors import LocalOutlierFactor\n",
    "from scipy.stats import levene\n",
    "from scipy.stats import shapiro\n",
    "from scipy.stats.stats import pearsonr\n",
    "from sklearn.preprocessing import LabelEncoder\n",
    "from sklearn.model_selection import train_test_split, cross_val_score, cross_val_predict\n",
    "from sklearn.preprocessing import scale\n",
    "from sklearn.model_selection import ShuffleSplit, GridSearchCV\n",
    "from sklearn.metrics import mean_squared_error, r2_score\n",
    "from sklearn import model_selection\n",
    "from sklearn.tree import DecisionTreeClassifier, DecisionTreeRegressor\n",
    "from sklearn.neighbors import KNeighborsRegressor\n",
    "from sklearn.neighbors import KNeighborsClassifier\n",
    "from sklearn.ensemble import BaggingRegressor\n",
    "from sklearn.svm import SVR\n",
    "from sklearn.preprocessing import StandardScaler\n",
    "from sklearn.preprocessing import MinMaxScaler\n",
    "from sklearn.neural_network import MLPRegressor\n",
    "from sklearn.neural_network import MLPClassifier\n",
    "from sklearn.linear_model import LinearRegression\n",
    "from sklearn.cross_decomposition import PLSRegression\n",
    "from sklearn.linear_model import Ridge\n",
    "from sklearn.linear_model import RidgeCV\n",
    "from sklearn.linear_model import Lasso\n",
    "from sklearn.linear_model import LassoCV\n",
    "from sklearn.linear_model import ElasticNet\n",
    "from sklearn.linear_model import ElasticNetCV\n",
    "from sklearn import linear_model\n",
    "from sklearn.ensemble import RandomForestRegressor, RandomForestClassifier\n",
    "from sklearn.ensemble import GradientBoostingRegressor, GradientBoostingClassifier\n",
    "import xgboost as xgb\n",
    "from xgboost import XGBRegressor, XGBClassifier\n",
    "from lightgbm import LGBMRegressor, LGBMClassifier\n",
    "!pip3 install catboost\n",
    "from catboost import CatBoostRegressor, CatBoostClassifier\n",
    "from sklearn.linear_model import LogisticRegression\n",
    "from sklearn.naive_bayes import GaussianNB\n",
    "from sklearn.svm import SVC\n",
    "from sklearn import tree\n",
    "from sklearn.discriminant_analysis import LinearDiscriminantAnalysis\n",
    "from sklearn.metrics import confusion_matrix, accuracy_score, classification_report, roc_auc_score, roc_curve\n",
    "from tensorflow.keras.models import Sequential\n",
    "from keras.layers import Dense, Dropout, Flatten, Conv2D, MaxPool2D, BatchNormalization,MaxPooling2D\n",
    "from keras import models\n",
    "from keras import layers\n",
    "import tensorflow as tf\n",
    "import os\n",
    "import os.path\n",
    "from pathlib import Path\n",
    "import cv2\n",
    "from tensorflow.keras.preprocessing.image import ImageDataGenerator\n",
    "from keras.utils.np_utils import to_categorical\n",
    "from google.colab import files\n",
    "from IPython.display import Image"
   ]
  },
  {
   "cell_type": "code",
   "execution_count": null,
   "metadata": {
    "executionInfo": {
     "elapsed": 12,
     "status": "aborted",
     "timestamp": 1695975679730,
     "user": {
      "displayName": "SHUBHAM MANISH SINGH 21BCE10456",
      "userId": "09782029246452308824"
     },
     "user_tz": -330
    },
    "id": "AII1x7ofXAxi"
   },
   "outputs": [],
   "source": [
    "from google.colab import drive\n",
    "drive.mount('/content/drive')"
   ]
  },
  {
   "cell_type": "code",
   "execution_count": null,
   "metadata": {
    "executionInfo": {
     "elapsed": 13,
     "status": "aborted",
     "timestamp": 1695975679731,
     "user": {
      "displayName": "SHUBHAM MANISH SINGH 21BCE10456",
      "userId": "09782029246452308824"
     },
     "user_tz": -330
    },
    "id": "KMB3MeWkTd_H"
   },
   "outputs": [],
   "source": [
    "filterwarnings(\"ignore\", category=DeprecationWarning)\n",
    "filterwarnings(\"ignore\", category=FutureWarning)\n",
    "filterwarnings(\"ignore\", category=UserWarning)"
   ]
  },
  {
   "cell_type": "code",
   "execution_count": null,
   "metadata": {
    "executionInfo": {
     "elapsed": 13,
     "status": "aborted",
     "timestamp": 1695975679731,
     "user": {
      "displayName": "SHUBHAM MANISH SINGH 21BCE10456",
      "userId": "09782029246452308824"
     },
     "user_tz": -330
    },
    "id": "nlKWQBjnTkrk"
   },
   "outputs": [],
   "source": [
    "dataTrain = Path(\"/content/drive/MyDrive/dataset/training_set\")"
   ]
  },
  {
   "cell_type": "code",
   "execution_count": null,
   "metadata": {
    "executionInfo": {
     "elapsed": 13,
     "status": "aborted",
     "timestamp": 1695975679731,
     "user": {
      "displayName": "SHUBHAM MANISH SINGH 21BCE10456",
      "userId": "09782029246452308824"
     },
     "user_tz": -330
    },
    "id": "b8xrjJloTmXE"
   },
   "outputs": [],
   "source": [
    "filepath = list(dataTrain.glob(r\"**/*.jpg\"))"
   ]
  },
  {
   "cell_type": "code",
   "execution_count": null,
   "metadata": {
    "executionInfo": {
     "elapsed": 13,
     "status": "aborted",
     "timestamp": 1695975679731,
     "user": {
      "displayName": "SHUBHAM MANISH SINGH 21BCE10456",
      "userId": "09782029246452308824"
     },
     "user_tz": -330
    },
    "id": "hVWPUCplTnBs"
   },
   "outputs": [],
   "source": [
    "print(filepath[1])"
   ]
  },
  {
   "cell_type": "code",
   "execution_count": null,
   "metadata": {
    "executionInfo": {
     "elapsed": 13,
     "status": "aborted",
     "timestamp": 1695975679731,
     "user": {
      "displayName": "SHUBHAM MANISH SINGH 21BCE10456",
      "userId": "09782029246452308824"
     },
     "user_tz": -330
    },
    "id": "FQpj_YMSTo5K"
   },
   "outputs": [],
   "source": [
    "labels = list(map(lambda x: os.path.split(os.path.split(x)[0])[1], filepath))\n",
    "print(labels)"
   ]
  },
  {
   "cell_type": "code",
   "execution_count": null,
   "metadata": {
    "executionInfo": {
     "elapsed": 13,
     "status": "aborted",
     "timestamp": 1695975679731,
     "user": {
      "displayName": "SHUBHAM MANISH SINGH 21BCE10456",
      "userId": "09782029246452308824"
     },
     "user_tz": -330
    },
    "id": "kq46sX-XTs4A"
   },
   "outputs": [],
   "source": [
    "filepath = pd.Series(filepath, name='Filepath').astype(str)"
   ]
  },
  {
   "cell_type": "code",
   "execution_count": null,
   "metadata": {
    "executionInfo": {
     "elapsed": 14,
     "status": "aborted",
     "timestamp": 1695975679732,
     "user": {
      "displayName": "SHUBHAM MANISH SINGH 21BCE10456",
      "userId": "09782029246452308824"
     },
     "user_tz": -330
    },
    "id": "O6PiLjzITqg5"
   },
   "outputs": [],
   "source": [
    "print(labels[60])"
   ]
  },
  {
   "cell_type": "code",
   "execution_count": null,
   "metadata": {
    "executionInfo": {
     "elapsed": 13,
     "status": "aborted",
     "timestamp": 1695975679732,
     "user": {
      "displayName": "SHUBHAM MANISH SINGH 21BCE10456",
      "userId": "09782029246452308824"
     },
     "user_tz": -330
    },
    "id": "yuZ-015YT7BN"
   },
   "outputs": [],
   "source": [
    "labels = pd.Series(labels,name=\"Labels\")"
   ]
  },
  {
   "cell_type": "code",
   "execution_count": null,
   "metadata": {
    "executionInfo": {
     "elapsed": 13,
     "status": "aborted",
     "timestamp": 1695975679732,
     "user": {
      "displayName": "SHUBHAM MANISH SINGH 21BCE10456",
      "userId": "09782029246452308824"
     },
     "user_tz": -330
    },
    "id": "eEKTjZM6T8x9"
   },
   "outputs": [],
   "source": [
    "ListA = []\n",
    "for i in filepath:\n",
    "    image = cv2.imread(i,0)\n",
    "    ListA.append(np.array(image,\"uint8\"))"
   ]
  },
  {
   "cell_type": "code",
   "execution_count": null,
   "metadata": {
    "executionInfo": {
     "elapsed": 13,
     "status": "aborted",
     "timestamp": 1695975679732,
     "user": {
      "displayName": "SHUBHAM MANISH SINGH 21BCE10456",
      "userId": "09782029246452308824"
     },
     "user_tz": -330
    },
    "id": "Zl07BdO-T-70"
   },
   "outputs": [],
   "source": [
    "ListA = pd.Series(ListA,name=\"Array\")"
   ]
  },
  {
   "cell_type": "code",
   "execution_count": null,
   "metadata": {
    "executionInfo": {
     "elapsed": 13,
     "status": "aborted",
     "timestamp": 1695975679732,
     "user": {
      "displayName": "SHUBHAM MANISH SINGH 21BCE10456",
      "userId": "09782029246452308824"
     },
     "user_tz": -330
    },
    "id": "Gk_8zgNCUA4a"
   },
   "outputs": [],
   "source": [
    "MainData = pd.concat([ListA,labels],axis=1)"
   ]
  },
  {
   "cell_type": "code",
   "execution_count": null,
   "metadata": {
    "executionInfo": {
     "elapsed": 13,
     "status": "aborted",
     "timestamp": 1695975679732,
     "user": {
      "displayName": "SHUBHAM MANISH SINGH 21BCE10456",
      "userId": "09782029246452308824"
     },
     "user_tz": -330
    },
    "id": "XgRz97OzUD5i"
   },
   "outputs": [],
   "source": [
    "data = MainData.copy() # to protect main data"
   ]
  },
  {
   "cell_type": "code",
   "execution_count": null,
   "metadata": {
    "executionInfo": {
     "elapsed": 13,
     "status": "aborted",
     "timestamp": 1695975679732,
     "user": {
      "displayName": "SHUBHAM MANISH SINGH 21BCE10456",
      "userId": "09782029246452308824"
     },
     "user_tz": -330
    },
    "id": "waD-H1QQUFqR"
   },
   "outputs": [],
   "source": [
    "print(data[\"Labels\"].value_counts())"
   ]
  },
  {
   "cell_type": "code",
   "execution_count": null,
   "metadata": {
    "executionInfo": {
     "elapsed": 13,
     "status": "aborted",
     "timestamp": 1695975679732,
     "user": {
      "displayName": "SHUBHAM MANISH SINGH 21BCE10456",
      "userId": "09782029246452308824"
     },
     "user_tz": -330
    },
    "id": "gmU6hiktUIoH"
   },
   "outputs": [],
   "source": [
    "figure = plt.figure(figsize=(15,8))\n",
    "plt.imshow(data[\"Array\"][10])"
   ]
  },
  {
   "cell_type": "code",
   "execution_count": null,
   "metadata": {
    "executionInfo": {
     "elapsed": 13,
     "status": "aborted",
     "timestamp": 1695975679732,
     "user": {
      "displayName": "SHUBHAM MANISH SINGH 21BCE10456",
      "userId": "09782029246452308824"
     },
     "user_tz": -330
    },
    "id": "_ufpfgvZUJmA"
   },
   "outputs": [],
   "source": [
    "figure = plt.figure(figsize=(15,8))\n",
    "plt.imshow(data[\"Array\"][5])"
   ]
  },
  {
   "cell_type": "code",
   "execution_count": null,
   "metadata": {
    "executionInfo": {
     "elapsed": 14,
     "status": "aborted",
     "timestamp": 1695975679733,
     "user": {
      "displayName": "SHUBHAM MANISH SINGH 21BCE10456",
      "userId": "09782029246452308824"
     },
     "user_tz": -330
    },
    "id": "WoZ4WOxpUOr8"
   },
   "outputs": [],
   "source": [
    "print(data.head())"
   ]
  },
  {
   "cell_type": "code",
   "execution_count": null,
   "metadata": {
    "executionInfo": {
     "elapsed": 14,
     "status": "aborted",
     "timestamp": 1695975679733,
     "user": {
      "displayName": "SHUBHAM MANISH SINGH 21BCE10456",
      "userId": "09782029246452308824"
     },
     "user_tz": -330
    },
    "id": "vxNAAqqnUQ49"
   },
   "outputs": [],
   "source": [
    "SecondData = pd.concat([filepath,labels],axis=1)"
   ]
  },
  {
   "cell_type": "code",
   "execution_count": null,
   "metadata": {
    "executionInfo": {
     "elapsed": 14,
     "status": "aborted",
     "timestamp": 1695975679733,
     "user": {
      "displayName": "SHUBHAM MANISH SINGH 21BCE10456",
      "userId": "09782029246452308824"
     },
     "user_tz": -330
    },
    "id": "qbiPBxDvUVjx"
   },
   "outputs": [],
   "source": [
    "print(SecondData)"
   ]
  },
  {
   "cell_type": "code",
   "execution_count": null,
   "metadata": {
    "executionInfo": {
     "elapsed": 13,
     "status": "aborted",
     "timestamp": 1695975679733,
     "user": {
      "displayName": "SHUBHAM MANISH SINGH 21BCE10456",
      "userId": "09782029246452308824"
     },
     "user_tz": -330
    },
    "id": "1cDD66idUXng"
   },
   "outputs": [],
   "source": [
    "x = SecondData[\"Filepath\"]\n",
    "y = SecondData[\"Labels\"]"
   ]
  },
  {
   "cell_type": "code",
   "execution_count": null,
   "metadata": {
    "executionInfo": {
     "elapsed": 13,
     "status": "aborted",
     "timestamp": 1695975679733,
     "user": {
      "displayName": "SHUBHAM MANISH SINGH 21BCE10456",
      "userId": "09782029246452308824"
     },
     "user_tz": -330
    },
    "id": "4LbNDrDOUZdA"
   },
   "outputs": [],
   "source": [
    "encode = LabelEncoder()"
   ]
  },
  {
   "cell_type": "code",
   "execution_count": null,
   "metadata": {
    "executionInfo": {
     "elapsed": 13,
     "status": "aborted",
     "timestamp": 1695975679733,
     "user": {
      "displayName": "SHUBHAM MANISH SINGH 21BCE10456",
      "userId": "09782029246452308824"
     },
     "user_tz": -330
    },
    "id": "KMCRwxj0UbL4"
   },
   "outputs": [],
   "source": [
    "x = encode.fit_transform(x)"
   ]
  },
  {
   "cell_type": "code",
   "execution_count": null,
   "metadata": {
    "executionInfo": {
     "elapsed": 13,
     "status": "aborted",
     "timestamp": 1695975679733,
     "user": {
      "displayName": "SHUBHAM MANISH SINGH 21BCE10456",
      "userId": "09782029246452308824"
     },
     "user_tz": -330
    },
    "id": "2z6xvRXKUdUP"
   },
   "outputs": [],
   "source": [
    "print(x)"
   ]
  },
  {
   "cell_type": "code",
   "execution_count": null,
   "metadata": {
    "executionInfo": {
     "elapsed": 13,
     "status": "aborted",
     "timestamp": 1695975679733,
     "user": {
      "displayName": "SHUBHAM MANISH SINGH 21BCE10456",
      "userId": "09782029246452308824"
     },
     "user_tz": -330
    },
    "id": "R3zRIfJrUfoI"
   },
   "outputs": [],
   "source": [
    "y = encode.fit_transform(y)"
   ]
  },
  {
   "cell_type": "code",
   "execution_count": null,
   "metadata": {
    "executionInfo": {
     "elapsed": 13,
     "status": "aborted",
     "timestamp": 1695975679733,
     "user": {
      "displayName": "SHUBHAM MANISH SINGH 21BCE10456",
      "userId": "09782029246452308824"
     },
     "user_tz": -330
    },
    "id": "5fQCq3kZUhbG"
   },
   "outputs": [],
   "source": [
    "print(y)"
   ]
  },
  {
   "cell_type": "code",
   "execution_count": null,
   "metadata": {
    "executionInfo": {
     "elapsed": 13,
     "status": "aborted",
     "timestamp": 1695975679733,
     "user": {
      "displayName": "SHUBHAM MANISH SINGH 21BCE10456",
      "userId": "09782029246452308824"
     },
     "user_tz": -330
    },
    "id": "N-jWcraYUi9F"
   },
   "outputs": [],
   "source": [
    "print(x.shape)"
   ]
  },
  {
   "cell_type": "code",
   "execution_count": null,
   "metadata": {
    "executionInfo": {
     "elapsed": 14,
     "status": "aborted",
     "timestamp": 1695975679734,
     "user": {
      "displayName": "SHUBHAM MANISH SINGH 21BCE10456",
      "userId": "09782029246452308824"
     },
     "user_tz": -330
    },
    "id": "hwTqWKrKUlMd"
   },
   "outputs": [],
   "source": [
    "print(y.shape)"
   ]
  },
  {
   "cell_type": "code",
   "execution_count": null,
   "metadata": {
    "executionInfo": {
     "elapsed": 14,
     "status": "aborted",
     "timestamp": 1695975679734,
     "user": {
      "displayName": "SHUBHAM MANISH SINGH 21BCE10456",
      "userId": "09782029246452308824"
     },
     "user_tz": -330
    },
    "id": "LwMTNfl8UlTc"
   },
   "outputs": [],
   "source": [
    "x = np.asarray(x).astype(\"float32\")\n",
    "x = x.reshape(126,1,1)"
   ]
  },
  {
   "cell_type": "code",
   "execution_count": null,
   "metadata": {
    "executionInfo": {
     "elapsed": 14,
     "status": "aborted",
     "timestamp": 1695975679734,
     "user": {
      "displayName": "SHUBHAM MANISH SINGH 21BCE10456",
      "userId": "09782029246452308824"
     },
     "user_tz": -330
    },
    "id": "vE49PXxgUo10"
   },
   "outputs": [],
   "source": [
    "y = np.asarray(y).astype(\"float32\")\n",
    "y = y.reshape(126,1,1)"
   ]
  },
  {
   "cell_type": "code",
   "execution_count": null,
   "metadata": {
    "executionInfo": {
     "elapsed": 14,
     "status": "aborted",
     "timestamp": 1695975679734,
     "user": {
      "displayName": "SHUBHAM MANISH SINGH 21BCE10456",
      "userId": "09782029246452308824"
     },
     "user_tz": -330
    },
    "id": "zO9gubH2Uq17"
   },
   "outputs": [],
   "source": [
    "print(len(x))"
   ]
  },
  {
   "cell_type": "code",
   "execution_count": null,
   "metadata": {
    "executionInfo": {
     "elapsed": 14,
     "status": "aborted",
     "timestamp": 1695975679734,
     "user": {
      "displayName": "SHUBHAM MANISH SINGH 21BCE10456",
      "userId": "09782029246452308824"
     },
     "user_tz": -330
    },
    "id": "NBeZOUhcU2WM"
   },
   "outputs": [],
   "source": [
    "print(len(y))"
   ]
  },
  {
   "cell_type": "code",
   "execution_count": null,
   "metadata": {
    "executionInfo": {
     "elapsed": 14,
     "status": "aborted",
     "timestamp": 1695975679734,
     "user": {
      "displayName": "SHUBHAM MANISH SINGH 21BCE10456",
      "userId": "09782029246452308824"
     },
     "user_tz": -330
    },
    "id": "YiZpVhSaU4NE"
   },
   "outputs": [],
   "source": [
    "xTrain,xTest,yTrain,yTest = train_test_split(x,y,test_size=0.1,random_state=42)"
   ]
  },
  {
   "cell_type": "code",
   "execution_count": null,
   "metadata": {
    "executionInfo": {
     "elapsed": 14,
     "status": "aborted",
     "timestamp": 1695975679734,
     "user": {
      "displayName": "SHUBHAM MANISH SINGH 21BCE10456",
      "userId": "09782029246452308824"
     },
     "user_tz": -330
    },
    "id": "a_BEBUC8U59b"
   },
   "outputs": [],
   "source": [
    "print(xTrain.shape)"
   ]
  },
  {
   "cell_type": "code",
   "execution_count": null,
   "metadata": {
    "executionInfo": {
     "elapsed": 14,
     "status": "aborted",
     "timestamp": 1695975679734,
     "user": {
      "displayName": "SHUBHAM MANISH SINGH 21BCE10456",
      "userId": "09782029246452308824"
     },
     "user_tz": -330
    },
    "id": "IOu4vNY6U7li"
   },
   "outputs": [],
   "source": [
    "print(xTest.shape)"
   ]
  },
  {
   "cell_type": "code",
   "execution_count": null,
   "metadata": {
    "executionInfo": {
     "elapsed": 15,
     "status": "aborted",
     "timestamp": 1695975679735,
     "user": {
      "displayName": "SHUBHAM MANISH SINGH 21BCE10456",
      "userId": "09782029246452308824"
     },
     "user_tz": -330
    },
    "id": "GLHL-n36U9nQ"
   },
   "outputs": [],
   "source": [
    "print(yTrain.shape)"
   ]
  },
  {
   "cell_type": "code",
   "execution_count": null,
   "metadata": {
    "executionInfo": {
     "elapsed": 15,
     "status": "aborted",
     "timestamp": 1695975679735,
     "user": {
      "displayName": "SHUBHAM MANISH SINGH 21BCE10456",
      "userId": "09782029246452308824"
     },
     "user_tz": -330
    },
    "id": "ClLfIF0iVAcG"
   },
   "outputs": [],
   "source": [
    "print(yTest.shape)"
   ]
  },
  {
   "cell_type": "code",
   "execution_count": null,
   "metadata": {
    "executionInfo": {
     "elapsed": 14,
     "status": "aborted",
     "timestamp": 1695975679735,
     "user": {
      "displayName": "SHUBHAM MANISH SINGH 21BCE10456",
      "userId": "09782029246452308824"
     },
     "user_tz": -330
    },
    "id": "om1kzRVqVCtP"
   },
   "outputs": [],
   "source": [
    "ANNmodel = tf.keras.models.Sequential([\n",
    "  # inputs\n",
    "  tf.keras.layers.experimental.preprocessing.Rescaling(1./255),\n",
    "  tf.keras.layers.Flatten(input_shape=(113,)),\n",
    "  # hiddens layers\n",
    "  tf.keras.layers.Dense(128, activation='relu'),\n",
    "  tf.keras.layers.Dropout(0.2),\n",
    "    tf.keras.layers.Dense(64, activation='relu'),\n",
    "  tf.keras.layers.Dropout(0.2),\n",
    "  # output layer\n",
    "  tf.keras.layers.Dense(5,activation=\"softmax\")\n",
    "])\n",
    "\n",
    "lossfunc = tf.keras.losses.SparseCategoricalCrossentropy(from_logits=True)\n",
    "\n",
    "ANNmodel.compile(optimizer='rmsprop', loss=lossfunc, metrics=['accuracy'])"
   ]
  },
  {
   "cell_type": "code",
   "execution_count": null,
   "metadata": {
    "executionInfo": {
     "elapsed": 14,
     "status": "aborted",
     "timestamp": 1695975679735,
     "user": {
      "displayName": "SHUBHAM MANISH SINGH 21BCE10456",
      "userId": "09782029246452308824"
     },
     "user_tz": -330
    },
    "id": "Xylxfby7VJ5V"
   },
   "outputs": [],
   "source": [
    "Callback = tf.keras.callbacks.EarlyStopping(monitor='accuracy', patience=3)"
   ]
  },
  {
   "cell_type": "code",
   "execution_count": null,
   "metadata": {
    "executionInfo": {
     "elapsed": 14,
     "status": "aborted",
     "timestamp": 1695975679735,
     "user": {
      "displayName": "SHUBHAM MANISH SINGH 21BCE10456",
      "userId": "09782029246452308824"
     },
     "user_tz": -330
    },
    "id": "lWwlZHfDVHuu"
   },
   "outputs": [],
   "source": [
    "MainModel = ANNmodel.fit(xTrain, yTrain,epochs=30, batch_size=5 ,callbacks=Callback ,validation_data=(xTest,yTest))"
   ]
  },
  {
   "cell_type": "code",
   "execution_count": null,
   "metadata": {
    "executionInfo": {
     "elapsed": 14,
     "status": "aborted",
     "timestamp": 1695975679735,
     "user": {
      "displayName": "SHUBHAM MANISH SINGH 21BCE10456",
      "userId": "09782029246452308824"
     },
     "user_tz": -330
    },
    "id": "-oPM2-YBVMke"
   },
   "outputs": [],
   "source": [
    "result_Model = ANNmodel.evaluate(xTest,yTest)"
   ]
  },
  {
   "cell_type": "code",
   "execution_count": null,
   "metadata": {
    "executionInfo": {
     "elapsed": 14,
     "status": "aborted",
     "timestamp": 1695975679735,
     "user": {
      "displayName": "SHUBHAM MANISH SINGH 21BCE10456",
      "userId": "09782029246452308824"
     },
     "user_tz": -330
    },
    "id": "LYmxyo1XVN5-"
   },
   "outputs": [],
   "source": [
    "print(ANNmodel.summary())\n",
    "print(ANNmodel.predict([[xTest[-1]]]))"
   ]
  },
  {
   "cell_type": "code",
   "execution_count": null,
   "metadata": {
    "executionInfo": {
     "elapsed": 14,
     "status": "aborted",
     "timestamp": 1695975679735,
     "user": {
      "displayName": "SHUBHAM MANISH SINGH 21BCE10456",
      "userId": "09782029246452308824"
     },
     "user_tz": -330
    },
    "id": "UvZCEFS1VRll"
   },
   "outputs": [],
   "source": [
    "plt.plot(MainModel.history[\"accuracy\"])\n",
    "plt.plot(MainModel.history[\"val_accuracy\"])\n",
    "plt.ylabel(\"ACC\")\n",
    "plt.legend()\n",
    "plt.show()"
   ]
  },
  {
   "cell_type": "code",
   "execution_count": null,
   "metadata": {
    "executionInfo": {
     "elapsed": 14,
     "status": "aborted",
     "timestamp": 1695975679735,
     "user": {
      "displayName": "SHUBHAM MANISH SINGH 21BCE10456",
      "userId": "09782029246452308824"
     },
     "user_tz": -330
    },
    "id": "atAe3SlRVTVe"
   },
   "outputs": [],
   "source": [
    "HistoryDict = MainModel.history\n",
    "\n",
    "val_losses = HistoryDict[\"val_loss\"]\n",
    "val_acc = HistoryDict[\"val_accuracy\"]\n",
    "acc = HistoryDict[\"accuracy\"]\n",
    "losses = HistoryDict[\"loss\"]\n",
    "epochs = range(1,len(val_losses)+1)"
   ]
  },
  {
   "cell_type": "code",
   "execution_count": null,
   "metadata": {
    "executionInfo": {
     "elapsed": 15,
     "status": "aborted",
     "timestamp": 1695975679736,
     "user": {
      "displayName": "SHUBHAM MANISH SINGH 21BCE10456",
      "userId": "09782029246452308824"
     },
     "user_tz": -330
    },
    "id": "MVPvEpbJVVHF"
   },
   "outputs": [],
   "source": [
    "plt.plot(epochs,val_losses,\"bo\",label=\"LOSS\")\n",
    "plt.plot(epochs,val_acc,\"r\",label=\"ACCURACY\")\n",
    "plt.title(\"LOSS & ACCURACY\")\n",
    "plt.xlabel(\"EPOCH\")\n",
    "plt.ylabel(\"Loss & Acc\")\n",
    "plt.legend()\n",
    "plt.show()"
   ]
  },
  {
   "cell_type": "code",
   "execution_count": null,
   "metadata": {
    "executionInfo": {
     "elapsed": 16,
     "status": "aborted",
     "timestamp": 1695975679737,
     "user": {
      "displayName": "SHUBHAM MANISH SINGH 21BCE10456",
      "userId": "09782029246452308824"
     },
     "user_tz": -330
    },
    "id": "X41iSqWWVW1E"
   },
   "outputs": [],
   "source": [
    "plt.plot(epochs,acc,\"bo\",label=\"ACCURACY\")\n",
    "plt.plot(epochs,val_acc,\"r\",label=\"ACCURACY VAL\")\n",
    "plt.title(\"ACCURACY & ACCURACY VAL\")\n",
    "plt.xlabel(\"EPOCH\")\n",
    "plt.ylabel(\"ACCURACY & ACCURACY VAL\")\n",
    "plt.legend()\n",
    "plt.show()"
   ]
  },
  {
   "cell_type": "code",
   "execution_count": null,
   "metadata": {
    "executionInfo": {
     "elapsed": 17,
     "status": "aborted",
     "timestamp": 1695975679738,
     "user": {
      "displayName": "SHUBHAM MANISH SINGH 21BCE10456",
      "userId": "09782029246452308824"
     },
     "user_tz": -330
    },
    "id": "dOrR8HTKVbA8"
   },
   "outputs": [],
   "source": [
    "plt.plot(epochs,losses,\"bo\",label=\"LOSS\")\n",
    "plt.plot(epochs,val_losses,\"r\",label=\"LOSS VAL\")\n",
    "plt.title(\"LOSS & LOSS VAL\")\n",
    "plt.xlabel(\"EPOCH\")\n",
    "plt.ylabel(\"LOSS & LOSS VAL\")\n",
    "plt.legend()\n",
    "plt.show()"
   ]
  },
  {
   "cell_type": "code",
   "execution_count": null,
   "metadata": {
    "executionInfo": {
     "elapsed": 17,
     "status": "aborted",
     "timestamp": 1695975679738,
     "user": {
      "displayName": "SHUBHAM MANISH SINGH 21BCE10456",
      "userId": "09782029246452308824"
     },
     "user_tz": -330
    },
    "id": "OcDZ0_2XpHaU"
   },
   "outputs": [],
   "source": [
    "upload = files.upload()\n",
    "lamda1 = list(map(lambda x: os.path.split(os.path.split(x)[0])[1], upload))\n",
    "filename = pd.Series(upload, name='newFile').astype(str)\n",
    "upload1 = encode.fit_transform(filename)\n",
    "upload2 = np.asarray(upload1).astype(\"float32\")\n",
    "upload3 = upload2.reshape(-1,1)\n",
    "your_ans = ANNmodel.predict([[upload3]])\n",
    "your_ans = your_ans * 100\n",
    "print(\"                                    your traits                                      \")\n",
    "print(\"-------------------------------------------------------------------------------------\")\n",
    "print(\"openness:\", your_ans[0][0], \"%\")\n",
    "print(\"Neuroticism: \", your_ans[0][1], \"%\")\n",
    "print(\"Extrovert: \", your_ans[0][2], \"%\")\n",
    "print(\"Diligent: \", your_ans[0][3], \"%\")\n",
    "print(\"Balanced: \", your_ans[0][4], \"%\")\n",
    "\n",
    "print(your_ans)\n"
   ]
  }
 ],
 "metadata": {
  "colab": {
   "authorship_tag": "ABX9TyOP3mEvZ7pGGN0oE2mMc0MK",
   "mount_file_id": "1qdm9e5Xs-DI9CocmuJnL-GUTf-imGQW4",
   "provenance": []
  },
  "kernelspec": {
   "display_name": "Python 3 (ipykernel)",
   "language": "python",
   "name": "python3"
  },
  "language_info": {
   "codemirror_mode": {
    "name": "ipython",
    "version": 3
   },
   "file_extension": ".py",
   "mimetype": "text/x-python",
   "name": "python",
   "nbconvert_exporter": "python",
   "pygments_lexer": "ipython3",
   "version": "3.9.19"
  }
 },
 "nbformat": 4,
 "nbformat_minor": 1
}
